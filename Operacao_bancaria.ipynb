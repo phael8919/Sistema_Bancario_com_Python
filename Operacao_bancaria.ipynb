{
 "cells": [
  {
   "cell_type": "code",
   "execution_count": 54,
   "id": "ff336f16",
   "metadata": {},
   "outputs": [
    {
     "name": "stdout",
     "output_type": "stream",
     "text": [
      "\n",
      "    Menu Conta Corrente:\n",
      "    [d] Depositar\n",
      "    [s] Sacar\n",
      "    [e] Extrato\n",
      "    [q] Sair    \n",
      "\n",
      "Digite a operação escolhida: d\n",
      "Insira o valor do depósito: 50\n",
      "\n",
      "\n",
      "Digite a operação escolhida: s\n",
      "Insira o valor de saque: 2\n",
      "Digite a operação escolhida: e\n",
      "\n",
      "----Extrato Bancário----\n",
      "\n",
      "Depósito: R$  50.0\n",
      "Saque: - R$  2.0\n",
      "\n",
      "-------\n",
      "Saldo: R$  48.0\n",
      "Digite a operação escolhida: q\n"
     ]
    }
   ],
   "source": [
    "print(\"\"\"\n",
    "    Menu Conta Corrente:\n",
    "    [d] Depositar\n",
    "    [s] Sacar\n",
    "    [e] Extrato\n",
    "    [q] Sair    \n",
    "\"\"\")\n",
    "\n",
    "saldo = 0\n",
    "limite = 500\n",
    "extrato = []\n",
    "numero_saques = 0\n",
    "limite_saques = 3\n",
    "\n",
    "while True:\n",
    "    opcao = input(\"Digite a operação escolhida: \")\n",
    "    \n",
    "    if opcao == 'd':\n",
    "        deposito = float(input(\"Insira o valor do depósito: \"))\n",
    "        saldo = sum(extrato)\n",
    "        \n",
    "        if deposito <= 0:\n",
    "            print(\"Você digitou valores negativos ou nulo!\\n\")            \n",
    "        else:\n",
    "            extrato.append(deposito)  \n",
    "        print('\\n')     \n",
    "    elif opcao == 's':  \n",
    "        sacar = float(input(\"Insira o valor de saque: \"))\n",
    "        saldo = sum(extrato)\n",
    "        \n",
    "        if sacar <= 0 or sacar > 500:\n",
    "            print(\"Valor digitado ultrapassa o limite de saque\\n\")\n",
    "        elif numero_saques >= limite_saques:\n",
    "            print(\"Você ultrapassou o limite de saque diário\\n\")\n",
    "        elif saldo <= sacar:\n",
    "            print(\"Você não tem limite para efetuar o saque\\n\")\n",
    "        else:           \n",
    "            numero_saques+=1\n",
    "            extrato.append(sacar*-1)             \n",
    "            \n",
    "    elif opcao == 'e':  \n",
    "        saldo = sum(extrato)\n",
    "        print('\\n----Extrato Bancário----\\n')\n",
    "        for i in extrato:\n",
    "            if i > 0:                \n",
    "                print('Depósito: R$ ', i)\n",
    "            else:\n",
    "                print('Saque: - R$ ', float(i*-1))\n",
    "        print('\\n-------\\nSaldo: R$ ',float(saldo))  \n",
    "        \n",
    "    elif opcao == 'q':  \n",
    "        break\n",
    "        \n",
    "    else:\n",
    "        print('\\nVocê digitou errado\\nTente novamente')\n",
    "    "
   ]
  },
  {
   "cell_type": "code",
   "execution_count": 11,
   "id": "6bd25e85",
   "metadata": {},
   "outputs": [
    {
     "data": {
      "text/plain": [
       "[500]"
      ]
     },
     "execution_count": 11,
     "metadata": {},
     "output_type": "execute_result"
    }
   ],
   "source": []
  },
  {
   "cell_type": "code",
   "execution_count": null,
   "id": "328eaeff",
   "metadata": {},
   "outputs": [],
   "source": []
  }
 ],
 "metadata": {
  "kernelspec": {
   "display_name": "Python 3 (ipykernel)",
   "language": "python",
   "name": "python3"
  },
  "language_info": {
   "codemirror_mode": {
    "name": "ipython",
    "version": 3
   },
   "file_extension": ".py",
   "mimetype": "text/x-python",
   "name": "python",
   "nbconvert_exporter": "python",
   "pygments_lexer": "ipython3",
   "version": "3.9.12"
  }
 },
 "nbformat": 4,
 "nbformat_minor": 5
}
